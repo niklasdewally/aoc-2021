{
 "cells": [
  {
   "cell_type": "code",
   "execution_count": 26,
   "id": "c6b95128",
   "metadata": {},
   "outputs": [],
   "source": [
    "import matplotlib.pyplot as plt\n",
    "import statistics\n",
    "from math import ceil,floor"
   ]
  },
  {
   "cell_type": "code",
   "execution_count": 2,
   "id": "74ba2d1d",
   "metadata": {},
   "outputs": [],
   "source": [
    "def parse_input(filename):\n",
    "    # comma seperated values\n",
    "    with open(filename) as f:\n",
    "        vals = [int(x) for x in f.read().strip().split(\",\")]\n",
    "    return vals"
   ]
  },
  {
   "cell_type": "code",
   "execution_count": 3,
   "id": "b243cf53",
   "metadata": {},
   "outputs": [
    {
     "data": {
      "text/plain": [
       "[16, 1, 2, 0, 4, 2, 7, 1, 2, 14]"
      ]
     },
     "execution_count": 3,
     "metadata": {},
     "output_type": "execute_result"
    }
   ],
   "source": [
    "parse_input(\"exinput\")"
   ]
  },
  {
   "cell_type": "code",
   "execution_count": 4,
   "id": "3f27ba8a",
   "metadata": {},
   "outputs": [],
   "source": [
    "def visualise_input(filename):\n",
    "    data = parse_input(filename)\n",
    "    plt.hist(data,rwidth=0.8,histtype=\"bar\")\n",
    "    plt.axvline(statistics.mean(data),color=\"red\",label=\"Mean\")\n",
    "    plt.axvline(statistics.median(data),color=\"yellow\",label=\"Median\")\n",
    "    plt.axvline(statistics.mode(data),color=\"orange\",label=\"Mode\")\n",
    "\n",
    "    plt.legend()\n",
    "    plt.show()"
   ]
  },
  {
   "cell_type": "code",
   "execution_count": 5,
   "id": "44db6542",
   "metadata": {},
   "outputs": [
    {
     "data": {
      "image/png": "[encoded data removed]",
      "text/plain": [
       "<Figure size 432x288 with 1 Axes>"
      ]
     },
     "metadata": {
      "needs_background": "light"
     },
     "output_type": "display_data"
    }
   ],
   "source": [
    "visualise_input(\"exinput\")"
   ]
  },
  {
   "cell_type": "markdown",
   "id": "90d8e909",
   "metadata": {},
   "source": [
    "According to the test data, the correct place for them to converge is at position 2 - that is the median."
   ]
  },
  {
   "cell_type": "code",
   "execution_count": 6,
   "id": "0bc1cc6c",
   "metadata": {},
   "outputs": [
    {
     "data": {
      "image/png": "[encoded data removed]",
      "text/plain": [
       "<Figure size 432x288 with 1 Axes>"
      ]
     },
     "metadata": {
      "needs_background": "light"
     },
     "output_type": "display_data"
    }
   ],
   "source": [
    "visualise_input(\"input\")"
   ]
  },
  {
   "cell_type": "markdown",
   "id": "15cac6b6",
   "metadata": {},
   "source": [
    "# Part 1"
   ]
  },
  {
   "cell_type": "code",
   "execution_count": 7,
   "id": "7fa7f12c",
   "metadata": {},
   "outputs": [],
   "source": [
    "def fuel_cost(filename):\n",
    "    data = parse_input(filename)\n",
    "    target = statistics.median(data)\n",
    "    return sum(abs(target-x) for x in data)"
   ]
  },
  {
   "cell_type": "code",
   "execution_count": 8,
   "id": "2ac6bb80",
   "metadata": {},
   "outputs": [
    {
     "data": {
      "text/plain": [
       "37.0"
      ]
     },
     "execution_count": 8,
     "metadata": {},
     "output_type": "execute_result"
    }
   ],
   "source": [
    "fuel_cost(\"exinput\")"
   ]
  },
  {
   "cell_type": "code",
   "execution_count": 9,
   "id": "34c4ef63",
   "metadata": {},
   "outputs": [
    {
     "data": {
      "text/plain": [
       "347011.0"
      ]
     },
     "execution_count": 9,
     "metadata": {},
     "output_type": "execute_result"
    }
   ],
   "source": [
    "fuel_cost(\"input\")"
   ]
  },
  {
   "cell_type": "markdown",
   "id": "28b9df44",
   "metadata": {},
   "source": [
    "# Part 2"
   ]
  },
  {
   "cell_type": "code",
   "execution_count": 10,
   "id": "a2ff645c",
   "metadata": {},
   "outputs": [],
   "source": [
    "def fuel_cost2(filename,target):\n",
    "    data = parse_input(filename)\n",
    "    return sum(sum(range(1,abs(target-x)+1)) for x in data)"
   ]
  },
  {
   "cell_type": "code",
   "execution_count": 11,
   "id": "57bf39a1",
   "metadata": {},
   "outputs": [
    {
     "data": {
      "text/plain": [
       "168"
      ]
     },
     "execution_count": 11,
     "metadata": {},
     "output_type": "execute_result"
    }
   ],
   "source": [
    "fuel_cost2(\"exinput\",5)"
   ]
  },
  {
   "cell_type": "code",
   "execution_count": 12,
   "id": "5d9cb23a",
   "metadata": {},
   "outputs": [
    {
     "data": {
      "image/png": "[encoded data removed]",
      "text/plain": [
       "<Figure size 432x288 with 1 Axes>"
      ]
     },
     "metadata": {
      "needs_background": "light"
     },
     "output_type": "display_data"
    }
   ],
   "source": [
    "visualise_input(\"exinput\")"
   ]
  },
  {
   "cell_type": "code",
   "execution_count": 13,
   "id": "67a8787f",
   "metadata": {},
   "outputs": [
    {
     "data": {
      "text/plain": [
       "5"
      ]
     },
     "execution_count": 13,
     "metadata": {},
     "output_type": "execute_result"
    }
   ],
   "source": [
    "round(statistics.mean(parse_input(\"exinput\")))"
   ]
  },
  {
   "cell_type": "markdown",
   "id": "ed068c03",
   "metadata": {},
   "source": [
    "Now, we want all crabs to move a little amount instead of some moving large amounts. In the test data , the ideal position is *5* - the mean"
   ]
  },
  {
   "cell_type": "code",
   "execution_count": 32,
   "id": "cebc580c",
   "metadata": {},
   "outputs": [],
   "source": [
    "def fuel_cost3(filename,round_func):\n",
    "    data = parse_input(filename)\n",
    "    target=round_func(statistics.mean(data))\n",
    "    return sum(sum(range(1,abs(target-x)+1)) for x in data)"
   ]
  },
  {
   "cell_type": "code",
   "execution_count": 33,
   "id": "7e953e47",
   "metadata": {},
   "outputs": [
    {
     "data": {
      "image/png": "[encoded data removed]",
      "text/plain": [
       "<Figure size 432x288 with 1 Axes>"
      ]
     },
     "metadata": {
      "needs_background": "light"
     },
     "output_type": "display_data"
    }
   ],
   "source": [
    "visualise_input(\"input\")"
   ]
  },
  {
   "cell_type": "markdown",
   "id": "902bbd87",
   "metadata": {},
   "source": [
    "Looking at the distributions, we ceil for `exinput`, and floor for `input`, as these lean towards the more \"populated\" sides."
   ]
  },
  {
   "cell_type": "code",
   "execution_count": 36,
   "id": "804e8302",
   "metadata": {},
   "outputs": [
    {
     "data": {
      "text/plain": [
       "168"
      ]
     },
     "execution_count": 36,
     "metadata": {},
     "output_type": "execute_result"
    }
   ],
   "source": [
    "fuel_cost3(\"exinput\",ceil)"
   ]
  },
  {
   "cell_type": "code",
   "execution_count": 37,
   "id": "1708572d",
   "metadata": {},
   "outputs": [
    {
     "data": {
      "text/plain": [
       "98363777"
      ]
     },
     "execution_count": 37,
     "metadata": {},
     "output_type": "execute_result"
    }
   ],
   "source": [
    "fuel_cost3(\"input\",floor)"
   ]
  },
  {
   "cell_type": "code",
   "execution_count": null,
   "id": "d9a78346",
   "metadata": {},
   "outputs": [],
   "source": []
  },
  {
   "cell_type": "code",
   "execution_count": null,
   "id": "1c28062a",
   "metadata": {},
   "outputs": [],
   "source": []
  }
 ],
 "metadata": {
  "kernelspec": {
   "display_name": "Python 3 (ipykernel)",
   "language": "python",
   "name": "python3"
  },
  "language_info": {
   "codemirror_mode": {
    "name": "ipython",
    "version": 3
   },
   "file_extension": ".py",
   "mimetype": "text/x-python",
   "name": "python",
   "nbconvert_exporter": "python",
   "pygments_lexer": "ipython3",
   "version": "3.9.7"
  }
 },
 "nbformat": 4,
 "nbformat_minor": 5
}
